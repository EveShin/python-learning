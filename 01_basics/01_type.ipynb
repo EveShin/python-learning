{
 "cells": [
  {
   "cell_type": "code",
   "execution_count": null,
   "id": "d8bb79bb",
   "metadata": {},
   "outputs": [],
   "source": [
    "int b = 3"
   ]
  },
  {
   "cell_type": "markdown",
   "id": "49c62857",
   "metadata": {},
   "source": [
    "# 테스트"
   ]
  },
  {
   "cell_type": "code",
   "execution_count": null,
   "id": "9db2f6a9",
   "metadata": {},
   "outputs": [],
   "source": []
  }
 ],
 "metadata": {
  "kernelspec": {
   "display_name": "base",
   "language": "python",
   "name": "python3"
  },
  "language_info": {
   "codemirror_mode": {
    "name": "ipython",
    "version": 3
   },
   "file_extension": ".py",
   "mimetype": "text/x-python",
   "name": "python",
   "nbconvert_exporter": "python",
   "pygments_lexer": "ipython3",
   "version": "3.12.3"
  }
 },
 "nbformat": 4,
 "nbformat_minor": 5
}
